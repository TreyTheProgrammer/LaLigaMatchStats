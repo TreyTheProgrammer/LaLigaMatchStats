{
 "cells": [
  {
   "cell_type": "code",
   "execution_count": 3,
   "id": "577b0e57",
   "metadata": {},
   "outputs": [
    {
     "name": "stdout",
     "output_type": "stream",
     "text": [
      "   Unnamed: 0        date   time     comp        round  day venue result   gf  \\\n",
      "0           0  2024-08-17  21:30  La Liga  Matchweek 1  Sat  Away      W  2.0   \n",
      "1           1  2024-08-24  19:00  La Liga  Matchweek 2  Sat  Home      W  2.0   \n",
      "2           2  2024-08-27  21:30  La Liga  Matchweek 3  Tue  Away      W  2.0   \n",
      "3           3  2024-08-31  17:00  La Liga  Matchweek 4  Sat  Home      W  7.0   \n",
      "4           4  2024-09-15  16:15  La Liga  Matchweek 5  Sun  Away      W  4.0   \n",
      "\n",
      "    ga  ...  match report  notes    sh   sot  dist   fk pk pkatt season  \\\n",
      "0  1.0  ...  Match Report    NaN  17.0   5.0  18.6  1.0  1     1   2025   \n",
      "1  1.0  ...  Match Report    NaN  13.0   5.0  16.6  0.0  0     0   2025   \n",
      "2  1.0  ...  Match Report    NaN  22.0   5.0  19.3  1.0  0     0   2025   \n",
      "3  0.0  ...  Match Report    NaN  23.0  11.0  13.7  1.0  0     0   2025   \n",
      "4  1.0  ...  Match Report    NaN  20.0   9.0  19.1  0.0  0     0   2025   \n",
      "\n",
      "        team  \n",
      "0  Barcelona  \n",
      "1  Barcelona  \n",
      "2  Barcelona  \n",
      "3  Barcelona  \n",
      "4  Barcelona  \n",
      "\n",
      "[5 rows x 29 columns]\n",
      "Unnamed: 0         int64\n",
      "date              object\n",
      "time              object\n",
      "comp              object\n",
      "round             object\n",
      "day               object\n",
      "venue             object\n",
      "result            object\n",
      "gf               float64\n",
      "ga               float64\n",
      "opponent          object\n",
      "xg               float64\n",
      "xga              float64\n",
      "poss             float64\n",
      "attendance       float64\n",
      "captain           object\n",
      "formation         object\n",
      "opp formation     object\n",
      "referee           object\n",
      "match report      object\n",
      "notes            float64\n",
      "sh               float64\n",
      "sot              float64\n",
      "dist             float64\n",
      "fk               float64\n",
      "pk                 int64\n",
      "pkatt              int64\n",
      "season             int64\n",
      "team              object\n",
      "dtype: object\n"
     ]
    }
   ],
   "source": [
    "import pandas as pd\n",
    "\n",
    "df = pd.read_csv('matches_full.csv')\n",
    "\n",
    "print(df.head())\n",
    "\n",
    "# Display the column names and their data types\n",
    "print(df.dtypes)"
   ]
  }
 ],
 "metadata": {
  "kernelspec": {
   "display_name": "base",
   "language": "python",
   "name": "python3"
  },
  "language_info": {
   "codemirror_mode": {
    "name": "ipython",
    "version": 3
   },
   "file_extension": ".py",
   "mimetype": "text/x-python",
   "name": "python",
   "nbconvert_exporter": "python",
   "pygments_lexer": "ipython3",
   "version": "3.12.7"
  }
 },
 "nbformat": 4,
 "nbformat_minor": 5
}
